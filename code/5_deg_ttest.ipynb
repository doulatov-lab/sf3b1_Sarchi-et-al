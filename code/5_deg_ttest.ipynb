{
 "cells": [
  {
   "cell_type": "code",
   "execution_count": 1,
   "id": "dc3e095a-45bb-4a26-81d1-0567cf8487c5",
   "metadata": {},
   "outputs": [],
   "source": [
    "import numpy as np\n",
    "import pandas as pd\n",
    "import matplotlib.pyplot as plt\n",
    "import anndata as ad\n",
    "import scanpy as sc\n",
    "import seaborn as sns\n",
    "\n",
    "np.random.seed(84)"
   ]
  },
  {
   "cell_type": "code",
   "execution_count": 2,
   "id": "847050f9-834c-4f15-a8e5-f2d6f61053f1",
   "metadata": {},
   "outputs": [
    {
     "name": "stdout",
     "output_type": "stream",
     "text": [
      "scanpy==1.9.3 anndata==0.9.1 umap==0.5.3 numpy==1.23.5 scipy==1.10.0 pandas==1.5.3 scikit-learn==1.2.1 statsmodels==0.13.5 python-igraph==0.10.5 pynndescent==0.5.10\n"
     ]
    }
   ],
   "source": [
    "sc.settings.verbosity = 3             # verbosity: errors (0), warnings (1), info (2), hints (3)\n",
    "sc.logging.print_header()\n",
    "sc.settings.set_figure_params(dpi=80, facecolor='white')\n",
    "\n",
    "out_data_path = \"../data/\""
   ]
  },
  {
   "cell_type": "markdown",
   "id": "b5ce5d0c-36e7-45a7-9363-9ade4af33092",
   "metadata": {
    "tags": []
   },
   "source": [
    "### Load the Data"
   ]
  },
  {
   "cell_type": "code",
   "execution_count": 3,
   "id": "b8b71de2-3c04-4201-b245-115b1fbcc504",
   "metadata": {},
   "outputs": [],
   "source": [
    "cells_data_path = out_data_path + \"cells_ad.h5ad\"\n",
    "adata = ad.read_h5ad(cells_data_path)"
   ]
  },
  {
   "cell_type": "code",
   "execution_count": 4,
   "id": "846520dc-444c-4ba6-a1a8-06605bdf1e6c",
   "metadata": {},
   "outputs": [],
   "source": [
    "adata.uns['log1p'][\"base\"] = None"
   ]
  },
  {
   "cell_type": "code",
   "execution_count": 5,
   "id": "9a40c634-b0f4-4ffc-93fa-95be577e4056",
   "metadata": {},
   "outputs": [
    {
     "data": {
      "text/plain": [
       "AnnData object with n_obs × n_vars = 20248 × 30267\n",
       "    obs: 'dataset', 'n_genes', 'n_genes_by_counts', 'total_counts', 'total_counts_mt', 'pct_counts_mt', 'doublet_score', 'predicted_doublet', 'S_score', 'G2M_score', 'phase', 'leiden', 'HSC_expr', 'HSC_cell', 'HSPC_expr', 'HSPC_cell', 'Myeloid_expr', 'Myeloid_cell', 'Erythroid_expr', 'Erythroid_cell', 'MK_expr', 'MK_cell', 'MAST_expr', 'MAST_cell', 'Lymphoid_expr', 'Lymphoid_cell'\n",
       "    var: 'n_cells', 'mt', 'n_cells_by_counts', 'mean_counts', 'pct_dropout_by_counts', 'total_counts', 'mean', 'std'\n",
       "    uns: 'leiden', 'leiden_colors', 'log1p', 'neighbors', 'pca', 'phase_colors', 'scrublet', 'umap'\n",
       "    obsm: 'X_pca', 'X_umap'\n",
       "    varm: 'PCs'\n",
       "    obsp: 'connectivities', 'distances'"
      ]
     },
     "execution_count": 5,
     "metadata": {},
     "output_type": "execute_result"
    }
   ],
   "source": [
    "adata"
   ]
  },
  {
   "cell_type": "markdown",
   "id": "70bd33eb-565e-44c8-9a94-a8429e8433bf",
   "metadata": {},
   "source": [
    "## Differential Gene Expression\n",
    "### t-test"
   ]
  },
  {
   "cell_type": "code",
   "execution_count": 6,
   "id": "77e78032-ca0a-4f27-8a34-d91a71276736",
   "metadata": {},
   "outputs": [],
   "source": [
    "celltype_markers = {'HSC':['PROM1','AVP','HLF'],\n",
    "                    'HSPC':['PROM1','CD34'],\n",
    "                    'Myeloid':['MPO', 'S100A8', 'S100A9', 'ELANE', 'AZU1'],\n",
    "                    'Erythroid':['KLF1', 'GATA1', 'TFRC'],\n",
    "                    'MK':['PF4', 'ITGA2B', 'GP9'],\n",
    "                    'MAST':['KIT', 'KRT1'],\n",
    "                    'Lymphoid':['IL7R', 'CD7', 'MME']}"
   ]
  },
  {
   "cell_type": "code",
   "execution_count": 7,
   "id": "c0947ecd-946f-413f-b07c-8e69e1bf8a41",
   "metadata": {
    "scrolled": true,
    "tags": []
   },
   "outputs": [
    {
     "name": "stdout",
     "output_type": "stream",
     "text": [
      "HSC\n",
      "ranking genes\n",
      "    finished: added to `.uns['rank_genes_groups']`\n",
      "    'names', sorted np.recarray to be indexed by group ids\n",
      "    'scores', sorted np.recarray to be indexed by group ids\n",
      "    'logfoldchanges', sorted np.recarray to be indexed by group ids\n",
      "    'pvals', sorted np.recarray to be indexed by group ids\n",
      "    'pvals_adj', sorted np.recarray to be indexed by group ids (0:00:00)\n"
     ]
    },
    {
     "name": "stderr",
     "output_type": "stream",
     "text": [
      "/Users/nellia/anaconda3/lib/python3.10/site-packages/scanpy/tools/_rank_genes_groups.py:580: ImplicitModificationWarning: Trying to modify attribute `._uns` of view, initializing view as actual.\n",
      "  adata.uns[key_added] = {}\n"
     ]
    },
    {
     "name": "stdout",
     "output_type": "stream",
     "text": [
      "HSPC\n",
      "ranking genes\n"
     ]
    },
    {
     "name": "stderr",
     "output_type": "stream",
     "text": [
      "/Users/nellia/anaconda3/lib/python3.10/site-packages/scanpy/tools/_rank_genes_groups.py:580: ImplicitModificationWarning: Trying to modify attribute `._uns` of view, initializing view as actual.\n",
      "  adata.uns[key_added] = {}\n"
     ]
    },
    {
     "name": "stdout",
     "output_type": "stream",
     "text": [
      "    finished: added to `.uns['rank_genes_groups']`\n",
      "    'names', sorted np.recarray to be indexed by group ids\n",
      "    'scores', sorted np.recarray to be indexed by group ids\n",
      "    'logfoldchanges', sorted np.recarray to be indexed by group ids\n",
      "    'pvals', sorted np.recarray to be indexed by group ids\n",
      "    'pvals_adj', sorted np.recarray to be indexed by group ids (0:00:00)\n",
      "Myeloid\n",
      "ranking genes\n"
     ]
    },
    {
     "name": "stderr",
     "output_type": "stream",
     "text": [
      "/Users/nellia/anaconda3/lib/python3.10/site-packages/scanpy/tools/_rank_genes_groups.py:580: ImplicitModificationWarning: Trying to modify attribute `._uns` of view, initializing view as actual.\n",
      "  adata.uns[key_added] = {}\n"
     ]
    },
    {
     "name": "stdout",
     "output_type": "stream",
     "text": [
      "    finished: added to `.uns['rank_genes_groups']`\n",
      "    'names', sorted np.recarray to be indexed by group ids\n",
      "    'scores', sorted np.recarray to be indexed by group ids\n",
      "    'logfoldchanges', sorted np.recarray to be indexed by group ids\n",
      "    'pvals', sorted np.recarray to be indexed by group ids\n",
      "    'pvals_adj', sorted np.recarray to be indexed by group ids (0:00:00)\n",
      "Erythroid\n",
      "ranking genes\n"
     ]
    },
    {
     "name": "stderr",
     "output_type": "stream",
     "text": [
      "/Users/nellia/anaconda3/lib/python3.10/site-packages/scanpy/tools/_rank_genes_groups.py:580: ImplicitModificationWarning: Trying to modify attribute `._uns` of view, initializing view as actual.\n",
      "  adata.uns[key_added] = {}\n"
     ]
    },
    {
     "name": "stdout",
     "output_type": "stream",
     "text": [
      "    finished: added to `.uns['rank_genes_groups']`\n",
      "    'names', sorted np.recarray to be indexed by group ids\n",
      "    'scores', sorted np.recarray to be indexed by group ids\n",
      "    'logfoldchanges', sorted np.recarray to be indexed by group ids\n",
      "    'pvals', sorted np.recarray to be indexed by group ids\n",
      "    'pvals_adj', sorted np.recarray to be indexed by group ids (0:00:00)\n",
      "MK\n",
      "ranking genes\n",
      "    finished: added to `.uns['rank_genes_groups']`\n",
      "    'names', sorted np.recarray to be indexed by group ids\n",
      "    'scores', sorted np.recarray to be indexed by group ids\n",
      "    'logfoldchanges', sorted np.recarray to be indexed by group ids\n",
      "    'pvals', sorted np.recarray to be indexed by group ids\n",
      "    'pvals_adj', sorted np.recarray to be indexed by group ids (0:00:00)\n",
      "MAST\n"
     ]
    },
    {
     "name": "stderr",
     "output_type": "stream",
     "text": [
      "/Users/nellia/anaconda3/lib/python3.10/site-packages/scanpy/tools/_rank_genes_groups.py:580: ImplicitModificationWarning: Trying to modify attribute `._uns` of view, initializing view as actual.\n",
      "  adata.uns[key_added] = {}\n"
     ]
    },
    {
     "name": "stdout",
     "output_type": "stream",
     "text": [
      "ranking genes\n"
     ]
    },
    {
     "name": "stderr",
     "output_type": "stream",
     "text": [
      "/Users/nellia/anaconda3/lib/python3.10/site-packages/scanpy/tools/_rank_genes_groups.py:580: ImplicitModificationWarning: Trying to modify attribute `._uns` of view, initializing view as actual.\n",
      "  adata.uns[key_added] = {}\n"
     ]
    },
    {
     "name": "stdout",
     "output_type": "stream",
     "text": [
      "    finished: added to `.uns['rank_genes_groups']`\n",
      "    'names', sorted np.recarray to be indexed by group ids\n",
      "    'scores', sorted np.recarray to be indexed by group ids\n",
      "    'logfoldchanges', sorted np.recarray to be indexed by group ids\n",
      "    'pvals', sorted np.recarray to be indexed by group ids\n",
      "    'pvals_adj', sorted np.recarray to be indexed by group ids (0:00:01)\n",
      "Lymphoid\n",
      "ranking genes\n",
      "    finished: added to `.uns['rank_genes_groups']`\n",
      "    'names', sorted np.recarray to be indexed by group ids\n",
      "    'scores', sorted np.recarray to be indexed by group ids\n",
      "    'logfoldchanges', sorted np.recarray to be indexed by group ids\n",
      "    'pvals', sorted np.recarray to be indexed by group ids\n",
      "    'pvals_adj', sorted np.recarray to be indexed by group ids (0:00:00)\n"
     ]
    },
    {
     "name": "stderr",
     "output_type": "stream",
     "text": [
      "/Users/nellia/anaconda3/lib/python3.10/site-packages/scanpy/tools/_rank_genes_groups.py:580: ImplicitModificationWarning: Trying to modify attribute `._uns` of view, initializing view as actual.\n",
      "  adata.uns[key_added] = {}\n"
     ]
    }
   ],
   "source": [
    "for cell_type in celltype_markers:\n",
    "    \n",
    "    print(cell_type)\n",
    "    # Set up the string the cell column\n",
    "    cell_col = cell_type + '_cell'\n",
    "    \n",
    "    # Get the cells in the column\n",
    "    cells = adata[adata.obs[cell_col] == cell_type]\n",
    "    \n",
    "    # Perform the differential expression analysis using ttest method. Use the raw data set in 2_dataprocessing.\n",
    "    sc.tl.rank_genes_groups(cells, 'dataset', groups=['SF3B1'], reference='AAVS', method='t-test', pts=True, use_raw=True)\n",
    "    \n",
    "    # Extract DE genes information\n",
    "    de_results = cells.uns['rank_genes_groups']\n",
    "    de_df = pd.DataFrame({\n",
    "        'genes': de_results['names']['SF3B1'],\n",
    "        'logfoldchanges': de_results['logfoldchanges']['SF3B1'],\n",
    "        'pvals': de_results['pvals']['SF3B1'],\n",
    "        'pvals_adj': de_results['pvals_adj']['SF3B1'],\n",
    "    })\n",
    "\n",
    "    # Save DataFrame to CSV\n",
    "    unfltd_path = \"../deg_output/ttest/unfiltered_\" + cell_type + \".csv\"\n",
    "    de_df.to_csv(unfltd_path, index=False)\n",
    "    \n",
    "    # Save the gene content in cells\n",
    "    cells_pts = de_results['pts']\n",
    "    pts_path = \"../deg_output/ttest/pts_\" + cell_type + \".csv\"\n",
    "    cells_pts.to_csv(pts_path)\n",
    "    \n",
    "    del(cells, de_results, de_df, cells_pts)"
   ]
  },
  {
   "cell_type": "code",
   "execution_count": null,
   "id": "b032db89-7c7f-4223-b0b9-aeab82ea2edb",
   "metadata": {},
   "outputs": [],
   "source": []
  }
 ],
 "metadata": {
  "kernelspec": {
   "display_name": "Python 3 (ipykernel)",
   "language": "python",
   "name": "python3"
  },
  "language_info": {
   "codemirror_mode": {
    "name": "ipython",
    "version": 3
   },
   "file_extension": ".py",
   "mimetype": "text/x-python",
   "name": "python",
   "nbconvert_exporter": "python",
   "pygments_lexer": "ipython3",
   "version": "3.10.9"
  }
 },
 "nbformat": 4,
 "nbformat_minor": 5
}
