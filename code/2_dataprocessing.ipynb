{
 "cells": [
  {
   "cell_type": "code",
   "execution_count": 1,
   "id": "47eff36c-873c-4fc4-988a-f6fcac80be83",
   "metadata": {},
   "outputs": [],
   "source": [
    "import numpy as np\n",
    "import pandas as pd\n",
    "import matplotlib.pyplot as plt\n",
    "import anndata as ad\n",
    "import scanpy as sc\n",
    "import seaborn as sns\n",
    "\n",
    "np.random.seed(84)"
   ]
  },
  {
   "cell_type": "code",
   "execution_count": 2,
   "id": "f7f4dbde-fed4-4acb-b7f5-2995c5ed7b14",
   "metadata": {},
   "outputs": [
    {
     "name": "stdout",
     "output_type": "stream",
     "text": [
      "scanpy==1.9.3 anndata==0.9.1 umap==0.5.3 numpy==1.23.5 scipy==1.10.0 pandas==1.5.3 scikit-learn==1.2.1 statsmodels==0.13.5 python-igraph==0.10.5 pynndescent==0.5.10\n"
     ]
    }
   ],
   "source": [
    "sc.settings.verbosity = 3             # verbosity: errors (0), warnings (1), info (2), hints (3)\n",
    "sc.logging.print_header()\n",
    "sc.settings.set_figure_params(dpi=80, facecolor='white')\n",
    "\n",
    "out_data_path = \"../data/\""
   ]
  },
  {
   "cell_type": "markdown",
   "id": "edc40fba-8f13-4f8d-ad60-8ec194a00ab0",
   "metadata": {},
   "source": [
    "### Load the Data"
   ]
  },
  {
   "cell_type": "code",
   "execution_count": 3,
   "id": "688b72f7-952d-47c4-97e2-bac49428e014",
   "metadata": {},
   "outputs": [],
   "source": [
    "# Read in the data output in the script 1_filtering\n",
    "filtered_data_path = out_data_path + \"filtered_ad.h5ad\"\n",
    "adata = ad.read_h5ad(filtered_data_path)"
   ]
  },
  {
   "cell_type": "code",
   "execution_count": 4,
   "id": "8916a70b-6c97-41b1-8ef9-a129814af06f",
   "metadata": {},
   "outputs": [
    {
     "data": {
      "text/plain": [
       "AnnData object with n_obs × n_vars = 20248 × 30267\n",
       "    obs: 'dataset', 'n_genes', 'n_genes_by_counts', 'total_counts', 'total_counts_mt', 'pct_counts_mt', 'doublet_score', 'predicted_doublet'\n",
       "    var: 'n_cells', 'mt', 'n_cells_by_counts', 'mean_counts', 'pct_dropout_by_counts', 'total_counts'\n",
       "    uns: 'scrublet'"
      ]
     },
     "execution_count": 4,
     "metadata": {},
     "output_type": "execute_result"
    }
   ],
   "source": [
    "adata"
   ]
  },
  {
   "cell_type": "code",
   "execution_count": 5,
   "id": "7373b7fe-1c51-42ec-bf46-e0593fc4224d",
   "metadata": {},
   "outputs": [
    {
     "name": "stdout",
     "output_type": "stream",
     "text": [
      "normalizing counts per cell\n",
      "    finished (0:00:00)\n"
     ]
    }
   ],
   "source": [
    "# Apply normalisation and log\n",
    "sc.pp.normalize_total(adata)\n",
    "sc.pp.log1p(adata)"
   ]
  },
  {
   "cell_type": "code",
   "execution_count": 6,
   "id": "7863f173-43f1-44d9-a4db-caf87a5f4177",
   "metadata": {},
   "outputs": [],
   "source": [
    "# Save processed data as raw\n",
    "adata.raw = adata"
   ]
  },
  {
   "cell_type": "code",
   "execution_count": 7,
   "id": "e6be812c-d848-4f96-869c-de67b9d21151",
   "metadata": {},
   "outputs": [],
   "source": [
    "processed_data_path = out_data_path + \"processed_ad.h5ad\"\n",
    "adata.write_h5ad(processed_data_path)"
   ]
  },
  {
   "cell_type": "code",
   "execution_count": null,
   "id": "5a6c7987-9e80-4119-a8ef-428dfc966b7d",
   "metadata": {},
   "outputs": [],
   "source": []
  }
 ],
 "metadata": {
  "kernelspec": {
   "display_name": "Python 3 (ipykernel)",
   "language": "python",
   "name": "python3"
  },
  "language_info": {
   "codemirror_mode": {
    "name": "ipython",
    "version": 3
   },
   "file_extension": ".py",
   "mimetype": "text/x-python",
   "name": "python",
   "nbconvert_exporter": "python",
   "pygments_lexer": "ipython3",
   "version": "3.10.9"
  }
 },
 "nbformat": 4,
 "nbformat_minor": 5
}
